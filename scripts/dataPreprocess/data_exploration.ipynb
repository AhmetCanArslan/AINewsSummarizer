{
 "cells": [
  {
   "cell_type": "code",
   "execution_count": null,
   "id": "997888cb",
   "metadata": {},
   "outputs": [],
   "source": [
    "import pandas as pd\n",
    "\n",
    "# verinin ilk 200 satırını yükle\n",
    "df = pd.read_csv(\"../../data/final_dataset.csv\", nrows=200)"
   ]
  },
  {
   "cell_type": "code",
   "execution_count": 3,
   "id": "d2bb5b34",
   "metadata": {},
   "outputs": [
    {
     "data": {
      "text/html": [
       "<div>\n",
       "<style scoped>\n",
       "    .dataframe tbody tr th:only-of-type {\n",
       "        vertical-align: middle;\n",
       "    }\n",
       "\n",
       "    .dataframe tbody tr th {\n",
       "        vertical-align: top;\n",
       "    }\n",
       "\n",
       "    .dataframe thead th {\n",
       "        text-align: right;\n",
       "    }\n",
       "</style>\n",
       "<table border=\"1\" class=\"dataframe\">\n",
       "  <thead>\n",
       "    <tr style=\"text-align: right;\">\n",
       "      <th></th>\n",
       "      <th>url</th>\n",
       "      <th>title</th>\n",
       "      <th>summary</th>\n",
       "      <th>publish_date</th>\n",
       "      <th>article_text</th>\n",
       "    </tr>\n",
       "  </thead>\n",
       "  <tbody>\n",
       "    <tr>\n",
       "      <th>0</th>\n",
       "      <td>https://www.anahaberajansi.com.tr/gunluk-burc-...</td>\n",
       "      <td>Günlük burç yorumları: 15 Mayıs 2025 Perşembe</td>\n",
       "      <td>Güneş’in bugün Mars ile paralel açısı kararlıl...</td>\n",
       "      <td>NaN</td>\n",
       "      <td>Güneş’in bugün Mars ile paralel açısı kararlıl...</td>\n",
       "    </tr>\n",
       "    <tr>\n",
       "      <th>1</th>\n",
       "      <td>https://www.anahaberajansi.com.tr/2025-yili-du...</td>\n",
       "      <td>2025 yılı düğünlerinde nostalji trendi</td>\n",
       "      <td>Retro masa lambaları</td>\n",
       "      <td>NaN</td>\n",
       "      <td>Retro masa lambaları\\nDüğün masalarını süsleye...</td>\n",
       "    </tr>\n",
       "    <tr>\n",
       "      <th>2</th>\n",
       "      <td>https://www.anahaberajansi.com.tr/ozenle-korun...</td>\n",
       "      <td>Özenle korunan 7 bin plaklık müzik mirası</td>\n",
       "      <td>İstanbul Maltepe’de yaşayan 57 yaşındaki müzik...</td>\n",
       "      <td>NaN</td>\n",
       "      <td>İstanbul Maltepe’de yaşayan 57 yaşındaki müzik...</td>\n",
       "    </tr>\n",
       "    <tr>\n",
       "      <th>3</th>\n",
       "      <td>https://www.anahaberajansi.com.tr/titanikin-ba...</td>\n",
       "      <td>Titanik’in batmadan önce bir yolcunun yazdığı ...</td>\n",
       "      <td>Yayınlandığında tüm dünyada adeta izlenme reko...</td>\n",
       "      <td>NaN</td>\n",
       "      <td>Yayınlandığında tüm dünyada adeta izlenme reko...</td>\n",
       "    </tr>\n",
       "    <tr>\n",
       "      <th>4</th>\n",
       "      <td>https://www.anahaberajansi.com.tr/konyadaki-ge...</td>\n",
       "      <td>Konya’daki Gevele Kalesi turizme kazandırılacak</td>\n",
       "      <td>Merkez Selçuklu ilçesinde bulunan Helenistik, ...</td>\n",
       "      <td>NaN</td>\n",
       "      <td>Merkez Selçuklu ilçesinde bulunan Helenistik, ...</td>\n",
       "    </tr>\n",
       "  </tbody>\n",
       "</table>\n",
       "</div>"
      ],
      "text/plain": [
       "                                                 url  \\\n",
       "0  https://www.anahaberajansi.com.tr/gunluk-burc-...   \n",
       "1  https://www.anahaberajansi.com.tr/2025-yili-du...   \n",
       "2  https://www.anahaberajansi.com.tr/ozenle-korun...   \n",
       "3  https://www.anahaberajansi.com.tr/titanikin-ba...   \n",
       "4  https://www.anahaberajansi.com.tr/konyadaki-ge...   \n",
       "\n",
       "                                               title  \\\n",
       "0      Günlük burç yorumları: 15 Mayıs 2025 Perşembe   \n",
       "1             2025 yılı düğünlerinde nostalji trendi   \n",
       "2          Özenle korunan 7 bin plaklık müzik mirası   \n",
       "3  Titanik’in batmadan önce bir yolcunun yazdığı ...   \n",
       "4    Konya’daki Gevele Kalesi turizme kazandırılacak   \n",
       "\n",
       "                                             summary  publish_date  \\\n",
       "0  Güneş’in bugün Mars ile paralel açısı kararlıl...           NaN   \n",
       "1                               Retro masa lambaları           NaN   \n",
       "2  İstanbul Maltepe’de yaşayan 57 yaşındaki müzik...           NaN   \n",
       "3  Yayınlandığında tüm dünyada adeta izlenme reko...           NaN   \n",
       "4  Merkez Selçuklu ilçesinde bulunan Helenistik, ...           NaN   \n",
       "\n",
       "                                        article_text  \n",
       "0  Güneş’in bugün Mars ile paralel açısı kararlıl...  \n",
       "1  Retro masa lambaları\\nDüğün masalarını süsleye...  \n",
       "2  İstanbul Maltepe’de yaşayan 57 yaşındaki müzik...  \n",
       "3  Yayınlandığında tüm dünyada adeta izlenme reko...  \n",
       "4  Merkez Selçuklu ilçesinde bulunan Helenistik, ...  "
      ]
     },
     "execution_count": 3,
     "metadata": {},
     "output_type": "execute_result"
    }
   ],
   "source": [
    "# Verinin ilk 5 satırını göstererek sütunları ve içeriği gör\n",
    "df.head()"
   ]
  },
  {
   "cell_type": "code",
   "execution_count": 5,
   "id": "afa3b3c9",
   "metadata": {},
   "outputs": [
    {
     "name": "stdout",
     "output_type": "stream",
     "text": [
      "<class 'pandas.core.frame.DataFrame'>\n",
      "RangeIndex: 200 entries, 0 to 199\n",
      "Data columns (total 5 columns):\n",
      " #   Column        Non-Null Count  Dtype  \n",
      "---  ------        --------------  -----  \n",
      " 0   url           200 non-null    object \n",
      " 1   title         200 non-null    object \n",
      " 2   summary       200 non-null    object \n",
      " 3   publish_date  0 non-null      float64\n",
      " 4   article_text  200 non-null    object \n",
      "dtypes: float64(1), object(4)\n",
      "memory usage: 7.9+ KB\n"
     ]
    }
   ],
   "source": [
    "# Veri setinin genel yapısını, sütun tiplerini ve boş olmayan veri sayısını gör\n",
    "df.info()"
   ]
  },
  {
   "cell_type": "code",
   "execution_count": 7,
   "id": "a0a38dab",
   "metadata": {},
   "outputs": [
    {
     "data": {
      "text/plain": [
       "url               0\n",
       "title             0\n",
       "summary           0\n",
       "publish_date    200\n",
       "article_text      0\n",
       "dtype: int64"
      ]
     },
     "execution_count": 7,
     "metadata": {},
     "output_type": "execute_result"
    }
   ],
   "source": [
    "# Hangi sütunda kaç tane boş veri olduğunu kontrol et\n",
    "df.isnull().sum()"
   ]
  },
  {
   "cell_type": "code",
   "execution_count": null,
   "id": "48adf8b1",
   "metadata": {},
   "outputs": [
    {
     "name": "stderr",
     "output_type": "stream",
     "text": [
      "[nltk_data] Downloading package stopwords to /home/juan/nltk_data...\n",
      "[nltk_data]   Package stopwords is already up-to-date!\n"
     ]
    }
   ],
   "source": [
    "import re\n",
    "import nltk\n",
    "from nltk.corpus import stopwords\n",
    "\n",
    "# Gerekli NLTK verilerini indir\n",
    "nltk.download('stopwords')\n",
    "\n",
    "# Türkçe stop words listesini al\n",
    "turkish_stop_words = set(stopwords.words('turkish'))\n",
    "\n",
    "def preprocess_turkish_text(text):\n",
    "    # 0. Güvenlik: Eğer veri string değilse boş metin döndür\n",
    "    if not isinstance(text, str):\n",
    "        return \"\"\n",
    "    \n",
    "    # 1. HTML etiketlerini temizle\n",
    "    text = re.sub(r'<.*?>', '', text)\n",
    "    \n",
    "    # 2. URL'leri ve e-postaları temizle\n",
    "    text = re.sub(r'http\\S+|www\\S+|https\\S+', '', text, flags=re.MULTILINE)\n",
    "    \n",
    "    # 3. Sadece harfleri ve boşlukları bırak (Türkçe karakterleri koru)\n",
    "    # Noktalama işaretlerini ve sayıları kaldırır.\n",
    "    text = re.sub(r'[^a-zA-ZçÇğĞıİöÖşŞüÜ\\s]', '', text)\n",
    "    \n",
    "    # 4. Türkçe'ye özel küçük harfe çevirme (I -> ı)\n",
    "    text = text.replace('I', 'ı').lower()\n",
    "    \n",
    "    # 5. Fazla boşlukları temizle (birden fazla boşluğu tek boşluğa indir)\n",
    "    text = re.sub(r'\\s+', ' ', text).strip()\n",
    "    \n",
    "    # 6. Stop words temizliği\n",
    "    words = text.split() # Cümleyi kelimelere ayır\n",
    "    filtered_words = [word for word in words if word not in turkish_stop_words]\n",
    "    text = ' '.join(filtered_words) # Temiz kelimeleri tekrar birleştir\n",
    "    \n",
    "    return text\n",
    "\n"
   ]
  },
  {
   "cell_type": "code",
   "execution_count": 16,
   "id": "db474713",
   "metadata": {},
   "outputs": [
    {
     "name": "stdout",
     "output_type": "stream",
     "text": [
      "--- ORİJİNAL HABER ---\n",
      "Güneş’in bugün Mars ile paralel açısı kararlılığımızı güçlendirir ve tepkilerimizi hızlandırır. Arzularımız güçlüdür ve harekete geçmeye hazırız. Bu geçiş, enerjiyi ve girişimciliği artırır. İrade sahibiyiz, doğrudan ve motiveyiz; ne istediğimizin ya da neye inandığımızın arkasında durmaya hazırız. Bu rekabetçi bir etkidir ve acelecilikten kaçınarak proaktif olma zamanıdır. Bugün Yay burcundaki Ay, coşkulu, kendine güvenen ve geleceğe dönük bir enerji getirir. Yine de, Güneş ile Jüpiter arasında\n",
      "\n",
      "==================================================\n",
      "\n",
      "--- TEMİZLENMİŞ HABER ---\n",
      "güneşin bugün mars paralel açısı kararlılığımızı güçlendirir tepkilerimizi hızlandırır arzularımız güçlüdür harekete geçmeye hazırız geçiş enerjiyi girişimciliği artırır i̇rade sahibiyiz doğrudan motiveyiz istediğimizin neye inandığımızın arkasında durmaya hazırız rekabetçi bir etkidir acelecilikten kaçınarak proaktif olma zamanıdır bugün yay burcundaki ay coşkulu kendine güvenen geleceğe dönük bir enerji getirir yine güneş jüpiter arasındaki yarım altmışlık açıyla birlikte ideallerimiz uzun vad\n"
     ]
    }
   ],
   "source": [
    "# DataFrame'den ilk haberi al\n",
    "sample_article = df['article_text'].iloc[0]\n",
    "\n",
    "cleaned_article = preprocess_turkish_text(sample_article)\n",
    "\n",
    "print(\"--- ORİJİNAL HABER ---\")\n",
    "print(sample_article[:500])\n",
    "print(\"\\n\" + \"=\"*50 + \"\\n\")\n",
    "print(\"--- TEMİZLENMİŞ HABER ---\")\n",
    "print(cleaned_article[:500])"
   ]
  },
  {
   "cell_type": "code",
   "execution_count": 14,
   "id": "9451d1ca",
   "metadata": {},
   "outputs": [
    {
     "name": "stdout",
     "output_type": "stream",
     "text": [
      "Örneklem (200 satır) temizleniyor...\n",
      "Temizleme tamamlandı!\n"
     ]
    }
   ],
   "source": [
    "print(\"Örneklem (200 satır) temizleniyor...\")\n",
    "df['cleaned_article'] = df['article_text'].apply(preprocess_turkish_text)\n",
    "df['cleaned_summary'] = df['summary'].apply(preprocess_turkish_text)\n",
    "print(\"Temizleme tamamlandı!\")"
   ]
  },
  {
   "cell_type": "code",
   "execution_count": 15,
   "id": "bf938ad7",
   "metadata": {},
   "outputs": [
    {
     "data": {
      "text/html": [
       "<div>\n",
       "<style scoped>\n",
       "    .dataframe tbody tr th:only-of-type {\n",
       "        vertical-align: middle;\n",
       "    }\n",
       "\n",
       "    .dataframe tbody tr th {\n",
       "        vertical-align: top;\n",
       "    }\n",
       "\n",
       "    .dataframe thead th {\n",
       "        text-align: right;\n",
       "    }\n",
       "</style>\n",
       "<table border=\"1\" class=\"dataframe\">\n",
       "  <thead>\n",
       "    <tr style=\"text-align: right;\">\n",
       "      <th></th>\n",
       "      <th>article_text</th>\n",
       "      <th>cleaned_article</th>\n",
       "      <th>summary</th>\n",
       "      <th>cleaned_summary</th>\n",
       "    </tr>\n",
       "  </thead>\n",
       "  <tbody>\n",
       "    <tr>\n",
       "      <th>0</th>\n",
       "      <td>Güneş’in bugün Mars ile paralel açısı kararlıl...</td>\n",
       "      <td>güneşin bugün mars paralel açısı kararlılığımı...</td>\n",
       "      <td>Güneş’in bugün Mars ile paralel açısı kararlıl...</td>\n",
       "      <td>güneşin bugün mars paralel açısı kararlılığımı...</td>\n",
       "    </tr>\n",
       "    <tr>\n",
       "      <th>1</th>\n",
       "      <td>Retro masa lambaları\\nDüğün masalarını süsleye...</td>\n",
       "      <td>retro masa lambaları düğün masalarını süsleyen...</td>\n",
       "      <td>Retro masa lambaları</td>\n",
       "      <td>retro masa lambaları</td>\n",
       "    </tr>\n",
       "    <tr>\n",
       "      <th>2</th>\n",
       "      <td>İstanbul Maltepe’de yaşayan 57 yaşındaki müzik...</td>\n",
       "      <td>i̇stanbul maltepede yaşayan yaşındaki müzik ya...</td>\n",
       "      <td>İstanbul Maltepe’de yaşayan 57 yaşındaki müzik...</td>\n",
       "      <td>i̇stanbul maltepede yaşayan yaşındaki müzik ya...</td>\n",
       "    </tr>\n",
       "    <tr>\n",
       "      <th>3</th>\n",
       "      <td>Yayınlandığında tüm dünyada adeta izlenme reko...</td>\n",
       "      <td>yayınlandığında dünyada adeta izlenme rekorlar...</td>\n",
       "      <td>Yayınlandığında tüm dünyada adeta izlenme reko...</td>\n",
       "      <td>yayınlandığında dünyada adeta izlenme rekorlar...</td>\n",
       "    </tr>\n",
       "    <tr>\n",
       "      <th>4</th>\n",
       "      <td>Merkez Selçuklu ilçesinde bulunan Helenistik, ...</td>\n",
       "      <td>merkez selçuklu ilçesinde bulunan helenistik r...</td>\n",
       "      <td>Merkez Selçuklu ilçesinde bulunan Helenistik, ...</td>\n",
       "      <td>merkez selçuklu ilçesinde bulunan helenistik r...</td>\n",
       "    </tr>\n",
       "  </tbody>\n",
       "</table>\n",
       "</div>"
      ],
      "text/plain": [
       "                                        article_text  \\\n",
       "0  Güneş’in bugün Mars ile paralel açısı kararlıl...   \n",
       "1  Retro masa lambaları\\nDüğün masalarını süsleye...   \n",
       "2  İstanbul Maltepe’de yaşayan 57 yaşındaki müzik...   \n",
       "3  Yayınlandığında tüm dünyada adeta izlenme reko...   \n",
       "4  Merkez Selçuklu ilçesinde bulunan Helenistik, ...   \n",
       "\n",
       "                                     cleaned_article  \\\n",
       "0  güneşin bugün mars paralel açısı kararlılığımı...   \n",
       "1  retro masa lambaları düğün masalarını süsleyen...   \n",
       "2  i̇stanbul maltepede yaşayan yaşındaki müzik ya...   \n",
       "3  yayınlandığında dünyada adeta izlenme rekorlar...   \n",
       "4  merkez selçuklu ilçesinde bulunan helenistik r...   \n",
       "\n",
       "                                             summary  \\\n",
       "0  Güneş’in bugün Mars ile paralel açısı kararlıl...   \n",
       "1                               Retro masa lambaları   \n",
       "2  İstanbul Maltepe’de yaşayan 57 yaşındaki müzik...   \n",
       "3  Yayınlandığında tüm dünyada adeta izlenme reko...   \n",
       "4  Merkez Selçuklu ilçesinde bulunan Helenistik, ...   \n",
       "\n",
       "                                     cleaned_summary  \n",
       "0  güneşin bugün mars paralel açısı kararlılığımı...  \n",
       "1                               retro masa lambaları  \n",
       "2  i̇stanbul maltepede yaşayan yaşındaki müzik ya...  \n",
       "3  yayınlandığında dünyada adeta izlenme rekorlar...  \n",
       "4  merkez selçuklu ilçesinde bulunan helenistik r...  "
      ]
     },
     "execution_count": 15,
     "metadata": {},
     "output_type": "execute_result"
    }
   ],
   "source": [
    "df[['article_text', 'cleaned_article', 'summary', 'cleaned_summary']].head()"
   ]
  }
 ],
 "metadata": {
  "kernelspec": {
   "display_name": "venv",
   "language": "python",
   "name": "python3"
  },
  "language_info": {
   "codemirror_mode": {
    "name": "ipython",
    "version": 3
   },
   "file_extension": ".py",
   "mimetype": "text/x-python",
   "name": "python",
   "nbconvert_exporter": "python",
   "pygments_lexer": "ipython3",
   "version": "3.10.12"
  }
 },
 "nbformat": 4,
 "nbformat_minor": 5
}
